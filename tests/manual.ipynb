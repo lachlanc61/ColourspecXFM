{
 "cells": [
  {
   "cell_type": "code",
   "execution_count": 2,
   "metadata": {},
   "outputs": [
    {
     "ename": "NameError",
     "evalue": "name '__file__' is not defined",
     "output_type": "error",
     "traceback": [
      "\u001b[0;31m---------------------------------------------------------------------------\u001b[0m",
      "\u001b[0;31mNameError\u001b[0m                                 Traceback (most recent call last)",
      "\u001b[0;32m/tmp/ipykernel_5518/1920502476.py\u001b[0m in \u001b[0;36m<module>\u001b[0;34m\u001b[0m\n\u001b[1;32m      4\u001b[0m \u001b[0;32mimport\u001b[0m \u001b[0mnumpy\u001b[0m \u001b[0;32mas\u001b[0m \u001b[0mnp\u001b[0m\u001b[0;34m\u001b[0m\u001b[0;34m\u001b[0m\u001b[0m\n\u001b[1;32m      5\u001b[0m \u001b[0;34m\u001b[0m\u001b[0m\n\u001b[0;32m----> 6\u001b[0;31m \u001b[0mTEST_DIR\u001b[0m\u001b[0;34m=\u001b[0m\u001b[0mos\u001b[0m\u001b[0;34m.\u001b[0m\u001b[0mpath\u001b[0m\u001b[0;34m.\u001b[0m\u001b[0mrealpath\u001b[0m\u001b[0;34m(\u001b[0m\u001b[0mos\u001b[0m\u001b[0;34m.\u001b[0m\u001b[0mpath\u001b[0m\u001b[0;34m.\u001b[0m\u001b[0mdirname\u001b[0m\u001b[0;34m(\u001b[0m\u001b[0m__file__\u001b[0m\u001b[0;34m)\u001b[0m\u001b[0;34m)\u001b[0m\u001b[0;34m\u001b[0m\u001b[0;34m\u001b[0m\u001b[0m\n\u001b[0m\u001b[1;32m      7\u001b[0m \u001b[0mBASE_DIR\u001b[0m\u001b[0;34m=\u001b[0m\u001b[0mos\u001b[0m\u001b[0;34m.\u001b[0m\u001b[0mpath\u001b[0m\u001b[0;34m.\u001b[0m\u001b[0mdirname\u001b[0m\u001b[0;34m(\u001b[0m\u001b[0mTEST_DIR\u001b[0m\u001b[0;34m)\u001b[0m\u001b[0;34m\u001b[0m\u001b[0;34m\u001b[0m\u001b[0m\n\u001b[1;32m      8\u001b[0m \u001b[0mPACKAGE_CONFIG\u001b[0m\u001b[0;34m=\u001b[0m\u001b[0;34m'xfmreadout/protocol.yaml'\u001b[0m\u001b[0;34m\u001b[0m\u001b[0;34m\u001b[0m\u001b[0m\n",
      "\u001b[0;31mNameError\u001b[0m: name '__file__' is not defined"
     ]
    }
   ],
   "source": [
    "import pytest\n",
    "import sys, os\n",
    "import yaml\n",
    "import numpy as np\n",
    "\n",
    "TEST_DIR=os.path.abspath('')\n",
    "BASE_DIR=os.path.dirname(TEST_DIR)\n",
    "PACKAGE_CONFIG='xfmreadout/protocol.yaml'\n",
    "\n",
    "sys.path.append(BASE_DIR)\n",
    "\n",
    "import xfmreadout.bufferops as bufferops\n",
    "\n",
    "#get config\n",
    "with open(os.path.join(BASE_DIR, PACKAGE_CONFIG), \"r\") as f:\n",
    "    config = yaml.safe_load(f)\n",
    "\n",
    "#assign constants from config\n",
    "PXHEADERLEN=config['PXHEADERLEN']\n",
    "CHARENCODE=config['CHARENCODE']\n",
    "NCHAN=config['NCHAN']\n",
    "BYTESPERCHAN=config['BYTESPERCHAN']\n",
    "\n",
    "#open and read the demo pixel header\n",
    "f=os.path.join(TEST_DIR, 'data/endpxheader.bin')\n",
    "fi = open(f, mode='rb')\n",
    "teststream = fi.read(PXHEADERLEN)\n"
   ]
  }
 ],
 "metadata": {
  "kernelspec": {
   "display_name": "Python 3.7.13 64-bit ('venv_readoutxfm')",
   "language": "python",
   "name": "python3"
  },
  "language_info": {
   "codemirror_mode": {
    "name": "ipython",
    "version": 3
   },
   "file_extension": ".py",
   "mimetype": "text/x-python",
   "name": "python",
   "nbconvert_exporter": "python",
   "pygments_lexer": "ipython3",
   "version": "3.7.13"
  },
  "orig_nbformat": 4,
  "vscode": {
   "interpreter": {
    "hash": "0b9d363b706fd0bc0a41859caad5644002e30fe4842120278502f40318864618"
   }
  }
 },
 "nbformat": 4,
 "nbformat_minor": 2
}
