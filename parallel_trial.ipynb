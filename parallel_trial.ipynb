{
 "cells": [
  {
   "cell_type": "code",
   "execution_count": 30,
   "metadata": {},
   "outputs": [
    {
     "name": "stdout",
     "output_type": "stream",
     "text": [
      "[0. 0. 0. 0. 0. 0. 0. 0. 0. 0. 0. 0. 0. 0. 0. 0.]\n",
      "(16, 1000000)\n",
      "worker 2worker 1\n",
      "\n",
      "worker 3worker 0\n",
      "\n",
      "worker 4\n",
      "worker 5\n",
      "worker 6worker 7\n",
      "\n",
      "worker 8\n",
      "worker 9\n",
      "worker 10worker 11\n",
      "\n",
      "worker 12\n",
      "worker 13\n",
      "worker 15worker 14\n",
      "\n",
      "raw result:\n",
      " [(-806.1063658982544, array([0, 0, 0, 0, 0, 0, 0, 0, 0, 0, 0, 0, 0, 0, 0])), (267.4069129089456, array([1, 1, 1, 1, 1, 1, 1, 1, 1, 1, 1, 1, 1, 1, 1])), (648.9563063060658, array([2, 2, 2, 2, 2, 2, 2, 2, 2, 2, 2, 2, 2, 2, 2])), (311.7159939927641, array([3, 3, 3, 3, 3, 3, 3, 3, 3, 3, 3, 3, 3, 3, 3])), (-72.42718171263712, array([4, 4, 4, 4, 4, 4, 4, 4, 4, 4, 4, 4, 4, 4, 4])), (-989.0265197260484, array([5, 5, 5, 5, 5, 5, 5, 5, 5, 5, 5, 5, 5, 5, 5])), (8.894800388171184, array([6, 6, 6, 6, 6, 6, 6, 6, 6, 6, 6, 6, 6, 6, 6])), (-437.9956110372471, array([7, 7, 7, 7, 7, 7, 7, 7, 7, 7, 7, 7, 7, 7, 7])), (502.40349600884144, array([8, 8, 8, 8, 8, 8, 8, 8, 8, 8, 8, 8, 8, 8, 8])), (-984.0816754695275, array([9, 9, 9, 9, 9, 9, 9, 9, 9, 9, 9, 9, 9, 9, 9])), (-254.3717254145471, array([10, 10, 10, 10, 10, 10, 10, 10, 10, 10, 10, 10, 10, 10, 10])), (-465.1761956943486, array([11, 11, 11, 11, 11, 11, 11, 11, 11, 11, 11, 11, 11, 11, 11])), (1762.116939525854, array([12, 12, 12, 12, 12, 12, 12, 12, 12, 12, 12, 12, 12, 12, 12])), (1166.9415339258387, array([13, 13, 13, 13, 13, 13, 13, 13, 13, 13, 13, 13, 13, 13, 13])), (-993.2527056782203, array([14, 14, 14, 14, 14, 14, 14, 14, 14, 14, 14, 14, 14, 14, 14])), (825.8984053663355, array([15, 15, 15, 15, 15, 15, 15, 15, 15, 15, 15, 15, 15, 15, 15]))]\n",
      "<class 'tuple'>\n",
      "Results (pool):\n",
      " [267.4069129089456 array([1, 1, 1, 1, 1, 1, 1, 1, 1, 1, 1, 1, 1, 1, 1])]\n",
      "Results (numpy):\n",
      " [-806.1063659   267.40691291  648.95630631  311.71599399  -72.42718171\n",
      " -989.02651973    8.89480039 -437.99561104  502.40349601 -984.08167547\n",
      " -254.37172541 -465.17619569 1762.11693953 1166.94153393 -993.25270568\n",
      "  825.89840537]\n"
     ]
    },
    {
     "name": "stderr",
     "output_type": "stream",
     "text": [
      "/home/lachlan/.pyenv/versions/3.7.13/envs/venv_readoutxfm/lib/python3.7/site-packages/ipykernel_launcher.py:46: VisibleDeprecationWarning: Creating an ndarray from ragged nested sequences (which is a list-or-tuple of lists-or-tuples-or ndarrays with different lengths or shapes) is deprecated. If you meant to do this, you must specify 'dtype=object' when creating the ndarray.\n"
     ]
    }
   ],
   "source": [
    "\"\"\"\n",
    "https://research.wmz.ninja/articles/2018/03/on-sharing-large-arrays-when-using-pythons-multiprocessing.html\n",
    "\n",
    "multiprocess returns a list, can be list of tuples or list of arrays\n",
    "\n",
    "\"\"\"\n",
    "\n",
    "\n",
    "import numpy as np\n",
    "import time\n",
    "from multiprocessing import Pool, RawArray\n",
    "\n",
    "# A global dictionary storing the variables passed from the initializer.\n",
    "var_dict = {}\n",
    "\n",
    "def init_worker(X, X_shape):\n",
    "    # Using a dictionary is not strictly necessary. You can also\n",
    "    # use global variables.\n",
    "    var_dict['X'] = X\n",
    "    var_dict['X_shape'] = X_shape\n",
    "\n",
    "def worker_func(i):\n",
    "    # Simply computes the sum of the i-th row of the input matrix X\n",
    "    X_np = np.frombuffer(var_dict['X']).reshape(var_dict['X_shape'])\n",
    "    time.sleep(1) # Some heavy computations\n",
    "    print(f\"worker {i}\")\n",
    "    return np.sum(X_np[i,:]).item(), np.full(15,i)\n",
    "\n",
    "# We need this check for Windows to prevent infinitely spawning new child\n",
    "# processes.\n",
    "if __name__ == '__main__':\n",
    "    X_shape = (16, 1000000)\n",
    "    # Randomly generate some data\n",
    "    data = np.random.randn(*X_shape)\n",
    "    X = RawArray('d', X_shape[0] * X_shape[1])\n",
    "    # Wrap X as an numpy array so we can easily manipulates its data.\n",
    "    X_np = np.frombuffer(X).reshape(X_shape)\n",
    "    # Copy data to our shared array.\n",
    "    np.copyto(X_np, data)\n",
    "    # Start the process pool and do the computation.\n",
    "    # Here we pass X and X_shape to the initializer of each worker.\n",
    "    # (Because X_shape is not a shared variable, it will be copied to each\n",
    "    # child process.)\n",
    "    resarray=np.zeros(X_shape[0]) #\n",
    "    print(resarray) #\n",
    "\n",
    "    with Pool(processes=4, initializer=init_worker, initargs=(X, X_shape)) as pool:\n",
    "        print(X_shape) #\n",
    "        inarray=range(X_shape[0])\n",
    "        #result = pool.map(worker_func, inarray)\n",
    "        result = pool.map(worker_func, inarray)\n",
    "        print('raw result:\\n', result)\n",
    "        print(type(result[0]))\n",
    "        print('Results (pool):\\n', np.array(result[:][1]))\n",
    "    # Should print the same results.\n",
    "    print('Results (numpy):\\n', np.sum(X_np, 1))"
   ]
  },
  {
   "cell_type": "code",
   "execution_count": 36,
   "metadata": {},
   "outputs": [
    {
     "name": "stdout",
     "output_type": "stream",
     "text": [
      "(1, 2)\n"
     ]
    },
    {
     "data": {
      "text/plain": [
       "True"
      ]
     },
     "execution_count": 36,
     "metadata": {},
     "output_type": "execute_result"
    }
   ],
   "source": [
    "info = [ ( 1, 2), (3, 4), (5, 6) ]\n",
    "\n",
    "print(info[0][:])\n",
    "info[0][1] == 2\n",
    "info[1][0] == 3\n",
    "info[1][1] == 4\n",
    "info[2][0] == 5\n",
    "info[2][1] == 6"
   ]
  }
 ],
 "metadata": {
  "kernelspec": {
   "display_name": "venv_readoutxfm",
   "language": "python",
   "name": "python3"
  },
  "language_info": {
   "codemirror_mode": {
    "name": "ipython",
    "version": 3
   },
   "file_extension": ".py",
   "mimetype": "text/x-python",
   "name": "python",
   "nbconvert_exporter": "python",
   "pygments_lexer": "ipython3",
   "version": "3.7.13"
  },
  "orig_nbformat": 4
 },
 "nbformat": 4,
 "nbformat_minor": 2
}
