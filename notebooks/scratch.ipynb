{
 "cells": [
  {
   "cell_type": "code",
   "execution_count": null,
   "metadata": {},
   "outputs": [],
   "source": [
    "import numpy as np\n",
    "import matplotlib.pyplot as pl\n",
    "import scipy.stats as st\n",
    "\n",
    "data = np.random.multivariate_normal((0, 0), [[0.8, 0.05], [0.05, 0.7]], 100)\n",
    "x = data[:, 0]\n",
    "y = data[:, 1]\n",
    "xmin, xmax = -3, 3\n",
    "ymin, ymax = -3, 3\n",
    "\n",
    "# Peform the kernel density estimate\n",
    "xx, yy = np.mgrid[xmin:xmax:100j, ymin:ymax:100j]\n",
    "positions = np.vstack([xx.ravel(), yy.ravel()])\n",
    "values = np.vstack([x, y])\n",
    "kernel = st.gaussian_kde(values)\n",
    "f = np.reshape(kernel(positions).T, xx.shape)\n",
    "\n",
    "fig = pl.figure()\n",
    "ax = fig.gca()\n",
    "ax.set_xlim(xmin, xmax)\n",
    "ax.set_ylim(ymin, ymax)\n",
    "# Contourf plot\n",
    "cfset = ax.contourf(xx, yy, f, cmap='Blues')\n",
    "## Or kernel density estimate plot instead of the contourf plot\n",
    "#ax.imshow(np.rot90(f), cmap='Blues', extent=[xmin, xmax, ymin, ymax])\n",
    "# Contour plot\n",
    "cset = ax.contour(xx, yy, f, colors='k')\n",
    "# Label plot\n",
    "ax.clabel(cset, inline=1, fontsize=10)\n",
    "ax.set_xlabel('Y1')\n",
    "ax.set_ylabel('Y0')\n",
    "\n",
    "pl.show()"
   ]
  }
 ],
 "metadata": {
  "kernelspec": {
   "display_name": "venv_xfmkit",
   "language": "python",
   "name": "python3"
  },
  "language_info": {
   "codemirror_mode": {
    "name": "ipython",
    "version": 3
   },
   "file_extension": ".py",
   "mimetype": "text/x-python",
   "name": "python",
   "nbconvert_exporter": "python",
   "pygments_lexer": "ipython3",
   "version": "3.10.6"
  }
 },
 "nbformat": 4,
 "nbformat_minor": 2
}
