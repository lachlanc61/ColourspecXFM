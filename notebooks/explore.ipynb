{
 "cells": [
  {
   "cell_type": "code",
   "execution_count": null,
   "metadata": {},
   "outputs": [],
   "source": [
    "import time\n",
    "import sys\n",
    "import os\n",
    "import numpy as np\n",
    "\n",
    "%load_ext autoreload\n",
    "%autoreload 2\n",
    "\n",
    "import xfmkit.utils as utils\n",
    "import xfmkit.argops as argops\n",
    "import xfmkit.clustering as clustering\n",
    "import xfmkit.visualisations as vis\n",
    "import xfmkit.processops as processops\n",
    "import xfmkit.structures as structures\n",
    "import xfmkit.entry_processed as entry_processed\n",
    "\n",
    "#add the parent folder to sys path so we can import from the notebook subfolder\n",
    "sys.path.insert(0,'..')\n",
    "\n",
    "#args = ' -d /home/lachlan/CODEBASE/xfmkit/data/processed_maps/carlos_full -n 2 -fc'\n",
    "args_in = [\"-d\", \"/home/lachlan/CODEBASE/xfmkit/data/processed_maps/carlos_full\", \"-n\", \"2\", \"-fc\" ]\n",
    "\n",
    "PACKAGE_CONFIG='xfmkit/config.yaml'"
   ]
  },
  {
   "cell_type": "code",
   "execution_count": null,
   "metadata": {},
   "outputs": [],
   "source": [
    "\"\"\"\n",
    "read exported tiffs from geopixe\n",
    "\n",
    "perform clustering and visualisation\n",
    "\"\"\"\n",
    "#create input config from args and config files\n",
    "config =utils.initcfg(PACKAGE_CONFIG)\n",
    "\n",
    "#get command line arguments\n",
    "args = argops.readargs_processed(args_in, config)\n",
    "\n",
    "image_directory=args.input_directory\n",
    "output_directory=os.path.join(image_directory, \"outputs\")\n",
    "\n",
    "if not os.path.isdir(output_directory):\n",
    "    os.mkdir(output_directory)\n",
    "\n",
    "ds = processops.compile(image_directory)\n",
    "\n",
    "ds.crop((args.x_coords[0], args.x_coords[1]), (args.y_coords[0], args.y_coords[1]))\n",
    "\n",
    "pxs = structures.PixelSet(ds)"
   ]
  },
  {
   "cell_type": "code",
   "execution_count": null,
   "metadata": {},
   "outputs": [],
   "source": [
    "import pandas as pd\n",
    "\n",
    "IGNORE_LINES=[]\n",
    "AFFECTED_LINES=['Ar', 'Mo', 'MoL']\n",
    "LIGHT_LINES=['Mg', 'Al', 'Si', 'P', 'S']\n",
    "NON_ELEMENT_LINES=['sum','Back','Compton']\n",
    "\n",
    "AMP_FACTOR=10.0\n",
    "SUPPRESS_FACTOR=10.0\n",
    "\n",
    "pixelseries=pxs\n",
    "\n",
    "q99_set = np.zeros(len(pixelseries.data.d[1]))\n",
    "\n",
    "amplify=args.amplify\n",
    "suppress=args.suppress\n",
    "normalise=args.normalise\n",
    "data_transform=args.data_transform\n",
    "weight_transform=args.data_transform\n",
    "\n",
    "\n",
    "for i, label in enumerate(pixelseries.labels):\n",
    "    DATA_QUANTILE=0.999\n",
    "    q99_set[i] = utils.mean_within_quantile(pixelseries.data.d[:,i], qmin=DATA_QUANTILE)\n"
   ]
  },
  {
   "cell_type": "code",
   "execution_count": null,
   "metadata": {},
   "outputs": [],
   "source": [
    "df = pd.DataFrame(columns=pixelseries.labels)\n",
    "\n",
    "df.loc[0]=q99_set\n",
    "\n",
    "df"
   ]
  },
  {
   "cell_type": "code",
   "execution_count": null,
   "metadata": {},
   "outputs": [],
   "source": [
    "df['Mg']"
   ]
  },
  {
   "cell_type": "code",
   "execution_count": null,
   "metadata": {},
   "outputs": [],
   "source": [
    "dfd = df.drop(labels=LIGHT_LINES+NON_ELEMENT_LINES+AFFECTED_LINES, axis=1) \n",
    "\n",
    "sorted = dfd.iloc[0].sort_values(ascending=False)\n",
    "\n",
    "N_TO_AVG=4\n",
    "\n",
    "sorted[0:N_TO_AVG].mean()\n"
   ]
  },
  {
   "cell_type": "code",
   "execution_count": null,
   "metadata": {},
   "outputs": [],
   "source": [
    "\n",
    "df = pd.DataFrame(q99_set, columns=pixelseries.labels)\n",
    "\n",
    "for target in amplify:\n",
    "    \n",
    "    for i, label in enumerate(pixelseries.labels):\n",
    "        if label == target:\n",
    "            pixelseries.weights[i]=pixelseries.weights[i]*AMP_FACTOR"
   ]
  }
 ],
 "metadata": {
  "kernelspec": {
   "display_name": "Python 3.10.6 64-bit ('venv_xfmkit')",
   "language": "python",
   "name": "python3"
  },
  "language_info": {
   "codemirror_mode": {
    "name": "ipython",
    "version": 3
   },
   "file_extension": ".py",
   "mimetype": "text/x-python",
   "name": "python",
   "nbconvert_exporter": "python",
   "pygments_lexer": "ipython3",
   "version": "3.10.6"
  },
  "vscode": {
   "interpreter": {
    "hash": "7060b9785fdca4a18a544ba639b7619bcdc2e472fedb88cd91711eee04a8769b"
   }
  }
 },
 "nbformat": 4,
 "nbformat_minor": 2
}
