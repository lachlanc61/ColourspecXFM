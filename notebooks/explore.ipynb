{
 "cells": [
  {
   "cell_type": "code",
   "execution_count": null,
   "metadata": {},
   "outputs": [],
   "source": [
    "import time\n",
    "import sys\n",
    "import os\n",
    "import numpy as np\n",
    "\n",
    "%load_ext autoreload\n",
    "%autoreload 2\n",
    "\n",
    "import xfmkit.utils as utils\n",
    "import xfmkit.argops as argops\n",
    "import xfmkit.clustering as clustering\n",
    "import xfmkit.visualisations as vis\n",
    "import xfmkit.processops as processops\n",
    "import xfmkit.structures as structures\n",
    "import xfmkit.entry_processed as entry_processed\n",
    "\n",
    "#add the parent folder to sys path so we can import from the notebook subfolder\n",
    "sys.path.insert(0,'..')\n",
    "\n",
    "#args = ' -d /home/lachlan/CODEBASE/xfmkit/data/processed_maps/nf_demo_short -n 2'\n",
    "args = [\"-d\", \"/home/lachlan/CODEBASE/xfmkit/data/processed_maps/carlos_full\", \"-n\", \"2\"]\n",
    "\n",
    "pxs, embedding, categories, classavg, palette = entry_processed.read_processed(args)\n",
    "\n",
    "\n",
    "\n"
   ]
  },
  {
   "cell_type": "code",
   "execution_count": null,
   "metadata": {},
   "outputs": [],
   "source": [
    "import xfmkit.geopixeio as geopixeio\n",
    "\n",
    "geopixeio.export_regions(categories, pxs.dimensions)"
   ]
  }
 ],
 "metadata": {
  "kernelspec": {
   "display_name": "Python 3.10.6 64-bit ('venv_xfmread')",
   "language": "python",
   "name": "python3"
  },
  "language_info": {
   "codemirror_mode": {
    "name": "ipython",
    "version": 3
   },
   "file_extension": ".py",
   "mimetype": "text/x-python",
   "name": "python",
   "nbconvert_exporter": "python",
   "pygments_lexer": "ipython3",
   "version": "3.10.6"
  },
  "vscode": {
   "interpreter": {
    "hash": "66c043029518c90bb384f0b53872b460fb60ca50dcd8445776aad0924efb97a4"
   }
  }
 },
 "nbformat": 4,
 "nbformat_minor": 2
}
