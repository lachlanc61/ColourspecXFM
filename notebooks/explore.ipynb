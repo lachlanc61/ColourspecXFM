{
 "cells": [
  {
   "cell_type": "code",
   "execution_count": 1,
   "metadata": {},
   "outputs": [],
   "source": [
    "import numpy as np\n",
    "\n",
    "%load_ext autoreload\n",
    "%autoreload 2\n",
    "\n",
    "import xfmreadout.structures as structures"
   ]
  },
  {
   "cell_type": "code",
   "execution_count": 103,
   "metadata": {},
   "outputs": [
    {
     "data": {
      "text/plain": [
       "2.0"
      ]
     },
     "execution_count": 103,
     "metadata": {},
     "output_type": "execute_result"
    }
   ],
   "source": [
    "SHAPE=(400,20)\n",
    "DIMENSIONS=(40,10)\n",
    "dimensions_half=(int(DIMENSIONS[0]/2),int(DIMENSIONS[1]/2))\n",
    "shape_half=(dimensions_half[0]*dimensions_half[1],SHAPE[1])\n",
    "\n",
    "array_1 = np.random.randint(0, 100, SHAPE) \n",
    "array_2 = np.random.randint(0, 100, shape_half) \n",
    "\n",
    "#assert 0\n",
    "data = structures.DataSeries(array_1, dimensions=DIMENSIONS)\n",
    "stderr = structures.DataSeries(array_2, dimensions=dimensions_half)    \n",
    "\n",
    "#assert 0\n",
    "ds = structures.DataSet(data, stderr)\n",
    "\n",
    "#assert np.allclose(ds.data.d, array_1)    "
   ]
  }
 ],
 "metadata": {
  "kernelspec": {
   "display_name": "Python 3.7.13 64-bit ('venv_readoutxfm')",
   "language": "python",
   "name": "python3"
  },
  "language_info": {
   "codemirror_mode": {
    "name": "ipython",
    "version": 3
   },
   "file_extension": ".py",
   "mimetype": "text/x-python",
   "name": "python",
   "nbconvert_exporter": "python",
   "pygments_lexer": "ipython3",
   "version": "3.10.6"
  },
  "orig_nbformat": 4,
  "vscode": {
   "interpreter": {
    "hash": "cb96fd94dfdeddb3941b742ac09afeae622274abf603b01f6c95366e7b99940d"
   }
  }
 },
 "nbformat": 4,
 "nbformat_minor": 2
}
