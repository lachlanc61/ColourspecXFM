{
 "cells": [
  {
   "cell_type": "code",
   "execution_count": 102,
   "metadata": {},
   "outputs": [
    {
     "name": "stdout",
     "output_type": "stream",
     "text": [
      "The autoreload extension is already loaded. To reload it, use:\n",
      "  %reload_ext autoreload\n"
     ]
    }
   ],
   "source": [
    "import numpy as np\n",
    "\n",
    "%load_ext autoreload\n",
    "%autoreload 2\n",
    "\n",
    "import xfmreadout.structures as structures"
   ]
  },
  {
   "cell_type": "code",
   "execution_count": 103,
   "metadata": {},
   "outputs": [
    {
     "data": {
      "text/plain": [
       "2.0"
      ]
     },
     "execution_count": 103,
     "metadata": {},
     "output_type": "execute_result"
    }
   ],
   "source": [
    "array = np.random.rand(400,20)\n",
    "array = np.zeros((400,20), dtype=np.float32)\n",
    "\n",
    "ds = structures.DataSeries(array, dimensions=(40,10))\n",
    "\n",
    "ds.crop(xrange=(0,10), yrange=(0,20))\n",
    "\n",
    "ds.mapview[1,1,2]=2\n",
    "\n",
    "ds.data[11,2]\n"
   ]
  },
  {
   "cell_type": "code",
   "execution_count": 113,
   "metadata": {},
   "outputs": [],
   "source": [
    "array = np.random.randint(0,100,(400,20)).astype(np.float32)\n",
    "array_se = np.sqrt(array)"
   ]
  },
  {
   "cell_type": "code",
   "execution_count": 118,
   "metadata": {},
   "outputs": [
    {
     "data": {
      "text/plain": [
       "array([[9.69536  , 6.3245554, 9.848858 , ..., 7.28011  , 3.       ,\n",
       "        0.       ],\n",
       "       [1.7320508, 9.848858 , 8.717798 , ..., 7.8740077, 7.483315 ,\n",
       "        9.848858 ],\n",
       "       [8.6602545, 3.1622777, 6.164414 , ..., 9.055386 , 9.       ,\n",
       "        3.3166249],\n",
       "       ...,\n",
       "       [9.539392 , 7.81025  , 9.899495 , ..., 9.949874 , 7.615773 ,\n",
       "        4.582576 ],\n",
       "       [5.2915025, 7.6811457, 2.236068 , ..., 9.848858 , 6.5574384,\n",
       "        6.6332498],\n",
       "       [1.4142135, 9.949874 , 5.0990195, ..., 8.426149 , 8.426149 ,\n",
       "        9.643651 ]], dtype=float32)"
      ]
     },
     "execution_count": 118,
     "metadata": {},
     "output_type": "execute_result"
    }
   ],
   "source": [
    "dsd = structures.DataSeries(array, dimensions=(40,10))\n",
    "\n",
    "dss = structures.DataSeries(array_se, dimensions=(40,10))\n",
    "\n",
    "ds = structures.DataSet(dsd, dss)\n",
    "\n",
    "ds.se.data"
   ]
  }
 ],
 "metadata": {
  "kernelspec": {
   "display_name": "Python 3.7.13 64-bit ('venv_readoutxfm')",
   "language": "python",
   "name": "python3"
  },
  "language_info": {
   "codemirror_mode": {
    "name": "ipython",
    "version": 3
   },
   "file_extension": ".py",
   "mimetype": "text/x-python",
   "name": "python",
   "nbconvert_exporter": "python",
   "pygments_lexer": "ipython3",
   "version": "3.10.6"
  },
  "orig_nbformat": 4,
  "vscode": {
   "interpreter": {
    "hash": "cb96fd94dfdeddb3941b742ac09afeae622274abf603b01f6c95366e7b99940d"
   }
  }
 },
 "nbformat": 4,
 "nbformat_minor": 2
}
