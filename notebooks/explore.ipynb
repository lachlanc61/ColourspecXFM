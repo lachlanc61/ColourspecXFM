{
 "cells": [
  {
   "cell_type": "code",
   "execution_count": null,
   "metadata": {},
   "outputs": [],
   "source": [
    "import time\n",
    "import sys\n",
    "import os\n",
    "import numpy as np\n",
    "\n",
    "%load_ext autoreload\n",
    "%autoreload 2\n",
    "\n",
    "import xfmkit.utils as utils\n",
    "import xfmkit.argops as argops\n",
    "import xfmkit.clustering as clustering\n",
    "import xfmkit.visualisations as vis\n",
    "import xfmkit.processops as processops\n",
    "import xfmkit.structures as structures\n",
    "import xfmkit.entry_processed as entry_processed\n",
    "\n",
    "#add the parent folder to sys path so we can import from the notebook subfolder\n",
    "sys.path.insert(0,'..')\n",
    "\n",
    "#args = ' -d /home/lachlan/CODEBASE/xfmkit/data/processed_maps/nf_demo_short -n 2'\n",
    "args = [\"-d\", \"/home/lachlan/CODEBASE/xfmkit/data/processed_maps/carlos_full\", \"-n\", \"2\", \"-fc\"]\n",
    "\n",
    "pxs, embedding, categories, classavg, palette = entry_processed.read_processed(args)\n",
    "\n",
    "\n",
    "\n"
   ]
  },
  {
   "cell_type": "code",
   "execution_count": null,
   "metadata": {},
   "outputs": [],
   "source": [
    "output_dir = \"/home/lachlan/CODEBASE/xfmkit/data/processed_maps/carlos_full\"\n",
    "\n",
    "def write_category_indices(categories, dimensions):\n",
    "    \"\"\"\n",
    "    geopixe expected format is a csv with 100 columns per row\n",
    "    \n",
    "    and y is inverted\n",
    "\n",
    "    \n",
    "    ugh... first row of first column prepended with \"Q\"\n",
    "    AND last row probably truncated\n",
    "    attempt to reshape with np, may be better to make a list or write csv and operate directly on that instead\n",
    "\n",
    "    np.savetxt has options for header, commend, newline char (\",\\n\"?) etc - look up docs\n",
    "    \"\"\"\n",
    "\n",
    "    for i in range(-1,30,1):\n",
    "        categories_ = utils.map_roll(categories, dimensions)\n",
    "        categories_ = np.flip(categories_, axis=0)\n",
    "        categories_, ___ = utils.map_unroll(categories_)\n",
    "        filtered_ = np.where(categories_ == i)[0]\n",
    "\n",
    "        break\n",
    "\n",
    "        #outfile = os.path.join(output_dir, f\"category_{i}.csv\")\n",
    "        #np.savetxt(outfile, filtered_, fmt=\"%d\", delimiter=\",\")\n",
    "\n",
    "write_category_indices(categories, pxs.dimensions)\n"
   ]
  },
  {
   "cell_type": "code",
   "execution_count": null,
   "metadata": {},
   "outputs": [],
   "source": [
    "categories_ = utils.map_roll(categories, pxs.dimensions, single=True)\n",
    "\n",
    "categories_ = np.flip(categories_, axis=0)\n",
    "\n",
    "categories_, __ = utils.map_unroll(categories_)\n",
    "\n",
    "i = 1\n",
    "\n",
    "filtered_ = np.where(categories_ == i)[0]\n",
    "\n",
    "result = filtered_.reshape((100,-1))\n",
    "\n",
    "result"
   ]
  }
 ],
 "metadata": {
  "kernelspec": {
   "display_name": "Python 3.10.6 64-bit ('venv_xfmread')",
   "language": "python",
   "name": "python3"
  },
  "language_info": {
   "codemirror_mode": {
    "name": "ipython",
    "version": 3
   },
   "file_extension": ".py",
   "mimetype": "text/x-python",
   "name": "python",
   "nbconvert_exporter": "python",
   "pygments_lexer": "ipython3",
   "version": "3.10.6"
  },
  "vscode": {
   "interpreter": {
    "hash": "66c043029518c90bb384f0b53872b460fb60ca50dcd8445776aad0924efb97a4"
   }
  }
 },
 "nbformat": 4,
 "nbformat_minor": 2
}
