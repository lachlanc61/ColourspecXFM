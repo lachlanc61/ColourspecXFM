{
 "cells": [
  {
   "cell_type": "code",
   "execution_count": null,
   "metadata": {},
   "outputs": [],
   "source": [
    "import time\n",
    "import sys\n",
    "import os\n",
    "import numpy as np\n",
    "\n",
    "%load_ext autoreload\n",
    "%autoreload 2\n",
    "\n",
    "import xfmkit.entry_processed as entry_processed\n",
    "import xfmkit.utils as utils\n",
    "import xfmkit.argops as argops\n",
    "import xfmkit.clustering as clustering\n",
    "import xfmkit.visualisations as vis\n",
    "import xfmkit.processops as processops\n",
    "import xfmkit.structures as structures\n",
    "import xfmkit.config as config\n",
    "\n",
    "#add the parent folder to sys path so we can import from within the notebook subfolder\n",
    "#sys.path.insert(0,'..')\n",
    "\n",
    "print(sys.path)\n",
    "\n",
    "#args = ' -d /home/lachlan/CODEBASE/xfmkit/data/processed_maps/carlos_full -n 2 -fc'\n",
    "#args_in = [\"-d\", \"/home/lachlan/CODEBASE/xfmkit/data/processed_maps/carlos_full\"]\n",
    "args_in = [\"-d\", \"/mnt/d/DATA/XFMDATA/2023/1263_Loren_Nicholls/sync_slides1_230915/s2/tiff\"]\n",
    "\n",
    "PACKAGE_CONFIG='xfmkit/config.yaml'"
   ]
  },
  {
   "cell_type": "code",
   "execution_count": null,
   "metadata": {},
   "outputs": [],
   "source": [
    "#get command line arguments\n",
    "args = argops.readargs_processed(args_in)\n",
    "\n",
    "image_directory=args.input_directory\n",
    "output_directory=os.path.join(image_directory, \"analysis\")\n",
    "\n",
    "if not os.path.isdir(output_directory):\n",
    "    os.mkdir(output_directory)\n",
    "\n",
    "ds = processops.compile(image_directory)\n",
    "\n",
    "ds.crop((args.x_coords[0], args.x_coords[1]), (args.y_coords[0], args.y_coords[1]))\n",
    "\n",
    "pxs = structures.PixelSet(ds)\n",
    "\n",
    "pxs.downsample_by_se()\n",
    "\n",
    "pxs.apply_weights(amplify_list = args.amplify, \n",
    "                        suppress_list = args.suppress, \n",
    "                        ignore_list = args.ignore,\n",
    "                        normalise = args.normalise, \n",
    "                        weight_transform = args.weight_transform, \n",
    "                        data_transform = args.data_transform \n",
    "                    )"
   ]
  },
  {
   "cell_type": "code",
   "execution_count": null,
   "metadata": {},
   "outputs": [],
   "source": [
    "vis.tricolour_pixelset(\"Fe\",\"S\",\"Al\", pxs)\n",
    "\n"
   ]
  },
  {
   "cell_type": "code",
   "execution_count": null,
   "metadata": {},
   "outputs": [],
   "source": [
    "pxs.weighted.mapview.shape"
   ]
  },
  {
   "cell_type": "code",
   "execution_count": null,
   "metadata": {},
   "outputs": [],
   "source": [
    "import matplotlib.pyplot as plt\n",
    "\n",
    "py = pxs.data.d[np.where(categories == 15)]\n",
    "log = np.log(py, where=(py!=0))\n",
    "\n",
    "\n",
    "\n",
    "index = utils.findelement(pxs.labels, \"Fe\")\n",
    "\n",
    "print(index)\n",
    "\n",
    "fig = plt.figure()\n",
    "ax = fig.add_subplot(1,1,1)\n",
    "\n",
    "ax.hist(log[index], bins=20)\n",
    "\n",
    "#ax.set_xscale('log')\n"
   ]
  },
  {
   "cell_type": "code",
   "execution_count": null,
   "metadata": {},
   "outputs": [],
   "source": [
    "fig = vis.tricolour_pixelset(\"Fe\", \"S\", \"Cu\", pxs)"
   ]
  }
 ],
 "metadata": {
  "kernelspec": {
   "display_name": "Python 3.10.6 64-bit ('venv_xfmkit')",
   "language": "python",
   "name": "python3"
  },
  "language_info": {
   "codemirror_mode": {
    "name": "ipython",
    "version": 3
   },
   "file_extension": ".py",
   "mimetype": "text/x-python",
   "name": "python",
   "nbconvert_exporter": "python",
   "pygments_lexer": "ipython3",
   "version": "3.10.6"
  },
  "vscode": {
   "interpreter": {
    "hash": "7060b9785fdca4a18a544ba639b7619bcdc2e472fedb88cd91711eee04a8769b"
   }
  }
 },
 "nbformat": 4,
 "nbformat_minor": 2
}
