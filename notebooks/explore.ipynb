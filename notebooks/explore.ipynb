{
 "cells": [
  {
   "cell_type": "code",
   "execution_count": null,
   "metadata": {},
   "outputs": [],
   "source": [
    "import time\n",
    "import sys\n",
    "import os\n",
    "import numpy as np\n",
    "\n",
    "%load_ext autoreload\n",
    "%autoreload 2\n",
    "\n",
    "import xfmkit.utils as utils\n",
    "import xfmkit.argops as argops\n",
    "import xfmkit.clustering as clustering\n",
    "import xfmkit.visualisations as vis\n",
    "import xfmkit.processops as processops\n",
    "import xfmkit.structures as structures\n",
    "import xfmkit.entry_processed as entry_processed\n",
    "\n",
    "#add the parent folder to sys path so we can import from the notebook subfolder\n",
    "sys.path.insert(0,'..')\n",
    "\n",
    "#args = ' -d /home/lachlan/CODEBASE/xfmkit/data/processed_maps/carlos_full -n 2 -fc'\n",
    "args_in = [\"-d\", \"/home/lachlan/CODEBASE/xfmkit/data/processed_maps/carlos_full\", \"-fc\" ]\n",
    "\n",
    "PACKAGE_CONFIG='xfmkit/config.yaml'"
   ]
  },
  {
   "cell_type": "code",
   "execution_count": null,
   "metadata": {},
   "outputs": [],
   "source": [
    "pxs, embedding, categories, classavg, palette = entry_processed.read_processed(args_in)"
   ]
  },
  {
   "cell_type": "code",
   "execution_count": null,
   "metadata": {},
   "outputs": [],
   "source": [
    "i=11\n",
    "print(pxs.labels)\n",
    "print(pxs.labels[i])\n",
    "print(pxs.weights[i])\n",
    "np.mean(pxs.weighted.d[:,i]), np.max(pxs.weighted.d[:,i])"
   ]
  },
  {
   "cell_type": "code",
   "execution_count": null,
   "metadata": {},
   "outputs": [],
   "source": [
    "fig = vis.tricolour_pixelset(\"Back\", \"AgL\", \"sum\", pxs)"
   ]
  }
 ],
 "metadata": {
  "kernelspec": {
   "display_name": "Python 3.10.6 64-bit ('venv_xfmkit')",
   "language": "python",
   "name": "python3"
  },
  "language_info": {
   "codemirror_mode": {
    "name": "ipython",
    "version": 3
   },
   "file_extension": ".py",
   "mimetype": "text/x-python",
   "name": "python",
   "nbconvert_exporter": "python",
   "pygments_lexer": "ipython3",
   "version": "3.10.6"
  },
  "vscode": {
   "interpreter": {
    "hash": "7060b9785fdca4a18a544ba639b7619bcdc2e472fedb88cd91711eee04a8769b"
   }
  }
 },
 "nbformat": 4,
 "nbformat_minor": 2
}
