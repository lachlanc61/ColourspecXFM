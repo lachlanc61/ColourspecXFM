{
 "cells": [
  {
   "cell_type": "code",
   "execution_count": null,
   "metadata": {},
   "outputs": [],
   "source": [
    "import time\n",
    "import sys\n",
    "import os\n",
    "import numpy as np\n",
    "\n",
    "%load_ext autoreload\n",
    "%autoreload 2\n",
    "\n",
    "import xfmkit.entry_processed as entry_processed\n",
    "import xfmkit.utils as utils\n",
    "import xfmkit.argops as argops\n",
    "import xfmkit.clustering as clustering\n",
    "import xfmkit.visualisations as vis\n",
    "import xfmkit.processops as processops\n",
    "import xfmkit.structures as structures\n",
    "import xfmkit.config as config\n",
    "\n",
    "#add the parent folder to sys path so we can import from within the notebook subfolder\n",
    "#sys.path.insert(0,'..')\n",
    "\n",
    "print(sys.path)\n",
    "\n",
    "#args = ' -d /home/lachlan/CODEBASE/xfmkit/data/processed_maps/carlos_full -n 2 -fc'\n",
    "args_in = [\"-d\", \"/home/lachlan/CODEBASE/xfmkit/data/processed_maps/nf_demo_short\" ]\n",
    "\n",
    "PACKAGE_CONFIG='xfmkit/config.yaml'"
   ]
  },
  {
   "cell_type": "code",
   "execution_count": null,
   "metadata": {},
   "outputs": [],
   "source": [
    "pxs, embedding, categories, classavg, palette = entry_processed.read_processed(args_in)"
   ]
  },
  {
   "cell_type": "code",
   "execution_count": null,
   "metadata": {},
   "outputs": [],
   "source": [
    "config.get('logging','log_file')"
   ]
  },
  {
   "cell_type": "code",
   "execution_count": null,
   "metadata": {},
   "outputs": [],
   "source": [
    "i=11\n",
    "print(pxs.labels)\n",
    "print(pxs.labels[i])\n",
    "print(pxs.weights[i])\n",
    "np.mean(pxs.weighted.d[:,i]), np.max(pxs.weighted.d[:,i])\n"
   ]
  },
  {
   "cell_type": "code",
   "execution_count": null,
   "metadata": {},
   "outputs": [],
   "source": [
    "fig = vis.tricolour_pixelset(\"Cu\", \"Ca\", \"S\", pxs)"
   ]
  },
  {
   "cell_type": "code",
   "execution_count": null,
   "metadata": {},
   "outputs": [],
   "source": [
    "import xfmkit.tabular as tabular\n",
    "\n",
    "df = tabular.get_df(classavg, pxs.labels)\n",
    "\n",
    "IGNORE_LINES=['sum','Back','Compton','Mo','MoL']\n",
    "\n",
    "N_MAJORS=3\n",
    "\n",
    "labels = df.columns.values.tolist()\n",
    "\n",
    "class_majors = []\n",
    "\n",
    "df_=df.copy()\n",
    "\n",
    "for i in range(len(df.index)):\n",
    "    row_ = df_.iloc[i].sort_values(ascending=False)\n",
    "\n",
    "    #filter method not working as row_ is not a df anymore and thus does not have labels\n",
    "    #use ignore instead of filter for now, TO-DO fix this\n",
    "    drop_filter = row_.filter(IGNORE_LINES)\n",
    "\n",
    "    row_ = row_.drop(IGNORE_LINES, errors='ignore')\n",
    "\n",
    "    #majors_ = row_.index[0:N_MAJORS].tolist()\n",
    "\n",
    "    majors_=[]\n",
    "\n",
    "    for i in range(len(row_.index)):\n",
    "        if len(majors_) == 0 or (row_[i] > 50000):# and row_[i] > row_[majors_[-1]]/10): \n",
    "                #majors_.append(row_.index[i])\n",
    "                #with pct values:\n",
    "                majors_.append(str(row_.index[i])+str(int(round(row_[i]/10000,0))))\n",
    "\n",
    "    class_majors.append(majors_)\n",
    "\n",
    "class_majors\n"
   ]
  }
 ],
 "metadata": {
  "kernelspec": {
   "display_name": "Python 3.10.6 64-bit ('venv_xfmkit')",
   "language": "python",
   "name": "python3"
  },
  "language_info": {
   "codemirror_mode": {
    "name": "ipython",
    "version": 3
   },
   "file_extension": ".py",
   "mimetype": "text/x-python",
   "name": "python",
   "nbconvert_exporter": "python",
   "pygments_lexer": "ipython3",
   "version": "3.10.6"
  },
  "vscode": {
   "interpreter": {
    "hash": "7060b9785fdca4a18a544ba639b7619bcdc2e472fedb88cd91711eee04a8769b"
   }
  }
 },
 "nbformat": 4,
 "nbformat_minor": 2
}
