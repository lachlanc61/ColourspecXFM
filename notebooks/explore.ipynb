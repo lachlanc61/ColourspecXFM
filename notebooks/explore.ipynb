{
 "cells": [
  {
   "cell_type": "code",
   "execution_count": null,
   "metadata": {},
   "outputs": [],
   "source": [
    "import time\n",
    "import sys\n",
    "import os\n",
    "import numpy as np\n",
    "\n",
    "%load_ext autoreload\n",
    "%autoreload 2\n",
    "\n",
    "import xfmkit.entry_processed as entry_processed\n",
    "import xfmkit.entry_raw as entry_raw\n",
    "import xfmkit.utils as utils\n",
    "import xfmkit.argops as argops\n",
    "import xfmkit.clustering as clustering\n",
    "import xfmkit.visualisations as vis\n",
    "import xfmkit.processops as processops\n",
    "import xfmkit.structures as structures\n",
    "import xfmkit.config as config\n",
    "\n",
    "#add the parent folder to sys path so we can import from within the notebook subfolder\n",
    "#sys.path.insert(0,'..')\n",
    "\n",
    "print(sys.path)\n",
    "\n",
    "#args = ' -d /home/lachlan/CODEBASE/xfmkit/data/processed_maps/carlos_full -n 2 -fc'\n",
    "args_in = [\"-d\", \"/home/lachlan/CODEBASE/xfmkit/data/processed_maps/nf_demo_full\", \"-som\", \"-ff\"]\n",
    "#args_in = [ \"-f\", \"/home/lachlan/CODEBASE/xfmkit/data/example_datafile.GeoPIXE\", \"-a\", \"-m\", \"-dt\", \"-1\" ]\n",
    "\n",
    "PACKAGE_CONFIG='xfmkit/config.yaml'\n"
   ]
  },
  {
   "cell_type": "code",
   "execution_count": null,
   "metadata": {},
   "outputs": [],
   "source": [
    "#pxs, xfmap, = entry_raw.read_raw(args_in)\n",
    "pxs, embedding, categories, classavg, palette, kde = entry_processed.read_processed(args_in)"
   ]
  },
  {
   "cell_type": "code",
   "execution_count": null,
   "metadata": {},
   "outputs": [],
   "source": [
    "import intrasom\n",
    "\n",
    "# Results Clustering and Plotting Modules\n",
    "from intrasom.visualization import PlotFactory\n",
    "from intrasom.clustering import ClusterFactory\n"
   ]
  },
  {
   "cell_type": "code",
   "execution_count": null,
   "metadata": {},
   "outputs": [],
   "source": [
    "data = pxs.data.d\n",
    "\n",
    "mapsize = (24,14)\n",
    "som_test = intrasom.SOMFactory.build(data,\n",
    "                                     mapsize=mapsize,\n",
    "                                     mapshape='toroid',\n",
    "                                     lattice='hexa',\n",
    "                                     normalization='var',\n",
    "                                     initialization='random',\n",
    "                                     neighborhood='gaussian',\n",
    "                                     training='batch',\n",
    "                                     name='Example',\n",
    "                                     component_names=None,\n",
    "                                     unit_names = None,\n",
    "                                     sample_names=None,\n",
    "                                     missing=False,\n",
    "                                     pred_size=0)"
   ]
  },
  {
   "cell_type": "code",
   "execution_count": null,
   "metadata": {},
   "outputs": [],
   "source": [
    "som_test.train(train_len_factor=2,\n",
    "               previous_epoch = True)"
   ]
  },
  {
   "cell_type": "code",
   "execution_count": null,
   "metadata": {},
   "outputs": [],
   "source": [
    "plot = PlotFactory(som_test)\n",
    "\n",
    "plot.plot_umatrix(figsize = (13,2.5),\n",
    "                  hits = False,\n",
    "                  title = \"U-Matrix\",\n",
    "                  title_size = 20,\n",
    "                  title_pad = 20,\n",
    "                  legend_title = \"Distance\",\n",
    "                  legend_title_size = 12,\n",
    "                  legend_ticks_size = 7,\n",
    "                  label_title_xy = (0,0.5),\n",
    "                  save = False,\n",
    "                  watermark_neurons=False)"
   ]
  },
  {
   "cell_type": "code",
   "execution_count": null,
   "metadata": {},
   "outputs": [],
   "source": [
    "clustering = ClusterFactory(som_test)\n",
    "clusters = clustering.kmeans(k=10)"
   ]
  },
  {
   "cell_type": "code",
   "execution_count": null,
   "metadata": {},
   "outputs": [],
   "source": [
    "clustering.plot_kmeans(figsize = (12,5),\n",
    "                       clusters = clusters,\n",
    "                       title_size = 18,\n",
    "                       title_pad = 20,\n",
    "                       umatrix=True,\n",
    "                       colormap = \"gist_rainbow\",\n",
    "                       alfa_clust=0.5,\n",
    "                       hits=True,\n",
    "                       legend_text_size =7,\n",
    "                       cluster_outline=False,\n",
    "                       save=False)"
   ]
  },
  {
   "cell_type": "code",
   "execution_count": null,
   "metadata": {},
   "outputs": [],
   "source": [
    "clustering.results_cluster(clusters)"
   ]
  }
 ],
 "metadata": {
  "kernelspec": {
   "display_name": "Python 3.10.6 64-bit ('venv_xfmkit')",
   "language": "python",
   "name": "python3"
  },
  "language_info": {
   "codemirror_mode": {
    "name": "ipython",
    "version": 3
   },
   "file_extension": ".py",
   "mimetype": "text/x-python",
   "name": "python",
   "nbconvert_exporter": "python",
   "pygments_lexer": "ipython3",
   "version": "3.10.6"
  },
  "vscode": {
   "interpreter": {
    "hash": "7060b9785fdca4a18a544ba639b7619bcdc2e472fedb88cd91711eee04a8769b"
   }
  }
 },
 "nbformat": 4,
 "nbformat_minor": 2
}
