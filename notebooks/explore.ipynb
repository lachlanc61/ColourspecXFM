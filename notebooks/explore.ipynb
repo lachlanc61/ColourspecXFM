{
 "cells": [
  {
   "cell_type": "code",
   "execution_count": null,
   "metadata": {},
   "outputs": [],
   "source": [
    "import time\n",
    "import sys\n",
    "import os\n",
    "import numpy as np\n",
    "\n",
    "%load_ext autoreload\n",
    "%autoreload 2\n",
    "\n",
    "import xfmkit.utils as utils\n",
    "import xfmkit.argops as argops\n",
    "import xfmkit.clustering as clustering\n",
    "import xfmkit.visualisations as vis\n",
    "import xfmkit.processops as processops\n",
    "import xfmkit.structures as structures\n",
    "import xfmkit.entry_processed as entry_processed\n",
    "\n",
    "#add the parent folder to sys path so we can import from the notebook subfolder\n",
    "sys.path.insert(0,'..')\n",
    "\n",
    "#args = ' -d /home/lachlan/CODEBASE/ReadoutXFM/data/processed_maps/nf_demo_short -n 2'\n",
    "args = [\"-d\", \"/home/lachlan/CODEBASE/ReadoutXFM/data/processed_maps/carlos_full\", \"-n\", \"2\",]\n",
    "\n",
    "pxs, embedding, categories, classavg, palette = entry_processed.read_processed(args)\n",
    "\n",
    "\n"
   ]
  },
  {
   "cell_type": "code",
   "execution_count": null,
   "metadata": {},
   "outputs": [],
   "source": [
    "import seaborn as sns\n",
    "import colorcet as cc\n",
    "from sklearn.preprocessing import normalize\n",
    "\n",
    "def cluster_colourmap(embedding, categories):\n",
    "    \"\"\"\n",
    "    create a colourmap clustered onto an embedding\n",
    "    \"\"\"\n",
    "    GREY=( 0.5, 0.5, 0.5 )\n",
    "\n",
    "    cat_min=np.min(categories)\n",
    "    cat_max=np.max(categories)\n",
    "    num_cats=cat_max-cat_min+1\n",
    "    num_colours = num_cats*3\n",
    "\n",
    "    palette = sns.color_palette(cc.glasbey_light,num_colours)\n",
    "    colours = np.array(palette, dtype=np.float32)\n",
    "\n",
    "    # produce 2D embedding for visualisation\n",
    "    ___, colour_embedding = clustering.reduce(colours, \"UMAP\", target_components=2) \n",
    "    \n",
    "    colour_embedding__ = np.copy(colour_embedding)\n",
    "    colour_embedding__ = colour_embedding__-np.min(colour_embedding__)    \n",
    "\n",
    "    return palette, colour_embedding\n",
    "\n",
    "newpalette, colour_embedding = cluster_colourmap(embedding, categories) \n"
   ]
  },
  {
   "cell_type": "code",
   "execution_count": null,
   "metadata": {},
   "outputs": [],
   "source": [
    "def norm_onto_2d(colour_embedding, embedding):\n",
    "    \"\"\"\n",
    "    normalise one 2D array of values onto the other, by axis\n",
    "    \"\"\"\n",
    "\n",
    "    if not ( len(colour_embedding.shape) == 2 and len(embedding.shape) == 2):\n",
    "        raise ValueError(\"both arrays must be 2D\")\n",
    "\n",
    "    embedding__ = np.copy(embedding)\n",
    "    colour_embedding__ = np.copy(colour_embedding)\n",
    "\n",
    "    for i in range(embedding.shape[1]):\n",
    "        embedding__[:,i] = embedding__[:,i]-np.min(embedding[:,i])\n",
    "\n",
    "        colour_embedding__[:,i] = np.copy(colour_embedding[:,i])\n",
    "        colour_embedding__[:,i] = colour_embedding__[:,i]-np.min(colour_embedding__[:,i])   \n",
    "\n",
    "        colour_embedding__[:,i] = colour_embedding__[:,i]/np.max(colour_embedding__[:,i])\n",
    "        colour_embedding__[:,i] = colour_embedding__[:,i]*np.max(embedding__[:,i])\n",
    "        colour_embedding__[:,i] = colour_embedding__[:,i]+np.min(embedding[:,i])\n",
    "\n",
    "    return colour_embedding__\n",
    "\n",
    "\n",
    "normed = norm_onto_2d(colour_embedding, embedding)\n",
    "\n",
    "palcat = np.arange(0,normed.shape[0])\n",
    "\n"
   ]
  },
  {
   "cell_type": "code",
   "execution_count": null,
   "metadata": {},
   "outputs": [],
   "source": [
    "def new_embedplot(embedding, categories, palette):\n",
    "    x=embedding.T[0]\n",
    "    y=embedding.T[1]\n",
    "\n",
    "    ### scatter plot with marginal axes\n",
    "    sns.set_style('white')\n",
    "\n",
    "    embed_plot = sns.jointplot(x=x, y=y,\n",
    "                hue=categories, palette=palette,\n",
    "                lw=0,\n",
    "                joint_kws = dict(alpha=1.0),\n",
    "                height=12, ratio=6\n",
    "                )\n",
    "\n",
    "    embed_plot.set_axis_labels('x', 'y', fontsize=16)\n",
    "\n",
    "    embed_plot.ax_joint.legend_.remove()\n",
    "\n",
    "    sns.despine(ax=None, left=True, bottom=True)\n",
    "    fig = embed_plot.fig\n",
    "\n",
    "new_embedplot(normed, palcat, newpalette)\n",
    "\n",
    "fig = vis.seaborn_embedplot(embedding, categories, palette=palette)"
   ]
  },
  {
   "cell_type": "code",
   "execution_count": null,
   "metadata": {},
   "outputs": [],
   "source": [
    "def get_closest_points(normed, centroids):\n",
    "    closest = np.zeros(centroids.shape[0], dtype=np.int32)\n",
    "\n",
    "    for i in range(centroids.shape[0]):\n",
    "        print(i)\n",
    "        matrix = normed-centroids[i,:]\n",
    "        dist = matrix[:,0]**2 + matrix[:,1]**2\n",
    "\n",
    "        #result = int(np.where(dist==np.min(dist))[0][0])\n",
    "        j=0\n",
    "        partn = np.partition(dist, j)[j]\n",
    "        result = int(np.where(dist==partn)[0][0])\n",
    "\n",
    "        while result in closest:\n",
    "            print(f\"{result} in closest\")\n",
    "            partn = np.partition(dist, j)[j]\n",
    "            result = int(np.where(dist==partn)[0][0])\n",
    "            j+=1\n",
    "\n",
    "        print(f\"using {result}\")\n",
    "        closest[i] = result\n",
    "\n",
    "    return closest\n",
    "\n",
    "centroids = utils.compile_centroids(embedding, categories)\n",
    "\n",
    "closest = get_closest_points(normed, centroids)\n",
    "\n",
    "closest.shape, centroids.shape[0], np.min(categories), np.max(categories), np.max(categories)-np.min(categories)\n",
    "\n",
    "\n",
    "\n",
    "\n"
   ]
  },
  {
   "cell_type": "code",
   "execution_count": null,
   "metadata": {},
   "outputs": [],
   "source": [
    "import copy\n",
    "\n",
    "\n",
    "def extract_by_index(newpalette, closest):\n",
    "\n",
    "    GREY=( 0.5, 0.5, 0.5 )\n",
    "\n",
    "    final_palette = copy.deepcopy(newpalette)\n",
    "\n",
    "    print(type(final_palette))\n",
    "\n",
    "    del final_palette[0:]\n",
    "\n",
    "    print(type(final_palette))\n",
    "\n",
    "    for i in closest:        \n",
    "        final_palette.append(newpalette[i])\n",
    "\n",
    "\n",
    "    del final_palette[0]\n",
    "\n",
    "    final_palette.insert( 0, GREY )    \n",
    "\n",
    "    return final_palette\n",
    "\n",
    "final_palette = extract_by_index(newpalette, closest)"
   ]
  },
  {
   "cell_type": "code",
   "execution_count": null,
   "metadata": {},
   "outputs": [],
   "source": [
    "final_palette"
   ]
  },
  {
   "cell_type": "code",
   "execution_count": null,
   "metadata": {},
   "outputs": [],
   "source": [
    "new_embedplot(normed, palcat, newpalette)\n",
    "\n",
    "fig = vis.seaborn_embedplot(embedding, categories, palette=final_palette)"
   ]
  },
  {
   "cell_type": "code",
   "execution_count": null,
   "metadata": {},
   "outputs": [],
   "source": [
    "fig_cat_map = vis.category_map_direct(categories, pxs.dimensions, palette=final_palette)\n",
    "\n"
   ]
  },
  {
   "cell_type": "code",
   "execution_count": null,
   "metadata": {},
   "outputs": [],
   "source": []
  }
 ],
 "metadata": {
  "kernelspec": {
   "display_name": "Python 3.10.6 64-bit ('venv_xfmread')",
   "language": "python",
   "name": "python3"
  },
  "language_info": {
   "codemirror_mode": {
    "name": "ipython",
    "version": 3
   },
   "file_extension": ".py",
   "mimetype": "text/x-python",
   "name": "python",
   "nbconvert_exporter": "python",
   "pygments_lexer": "ipython3",
   "version": "3.10.6"
  },
  "vscode": {
   "interpreter": {
    "hash": "66c043029518c90bb384f0b53872b460fb60ca50dcd8445776aad0924efb97a4"
   }
  }
 },
 "nbformat": 4,
 "nbformat_minor": 2
}
