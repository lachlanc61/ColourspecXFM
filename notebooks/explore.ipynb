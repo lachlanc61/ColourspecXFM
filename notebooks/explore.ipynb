{
 "cells": [
  {
   "cell_type": "code",
   "execution_count": null,
   "metadata": {},
   "outputs": [],
   "source": [
    "import time\n",
    "import sys\n",
    "import os\n",
    "import numpy as np\n",
    "\n",
    "%load_ext autoreload\n",
    "%autoreload 2\n",
    "\n",
    "import xfmkit.entry_processed as entry_processed\n",
    "import xfmkit.entry_raw as entry_raw\n",
    "import xfmkit.utils as utils\n",
    "import xfmkit.argops as argops\n",
    "import xfmkit.clustering as clustering\n",
    "import xfmkit.visualisations as vis\n",
    "import xfmkit.processops as processops\n",
    "import xfmkit.structures as structures\n",
    "import xfmkit.config as config\n",
    "\n",
    "#add the parent folder to sys path so we can import from within the notebook subfolder\n",
    "#sys.path.insert(0,'..')\n",
    "\n",
    "print(sys.path)\n",
    "\n",
    "#args = ' -d /home/lachlan/CODEBASE/xfmkit/data/processed_maps/carlos_full -n 2 -fc'\n",
    "#args_in = [\"-d\", \"/home/lachlan/CODEBASE/xfmkit/data/processed_maps/carlos_full\"]\n",
    "args_in = [ \"-f\", \"/home/lachlan/CODEBASE/xfmkit/data/example_datafile.GeoPIXE\", \"-a\", \"-m\", \"-dt\", \"-1\" ]\n",
    "\n",
    "PACKAGE_CONFIG='xfmkit/config.yaml'\n"
   ]
  },
  {
   "cell_type": "code",
   "execution_count": null,
   "metadata": {},
   "outputs": [],
   "source": [
    "pxs, xfmap, = entry_raw.read_raw(args_in)\n",
    "#pxs, embedding, categories, classavg, palette, kde = entry_processed.read_processed(args_in)"
   ]
  },
  {
   "cell_type": "code",
   "execution_count": null,
   "metadata": {},
   "outputs": [],
   "source": [
    "pxs.dtmod"
   ]
  },
  {
   "cell_type": "code",
   "execution_count": null,
   "metadata": {},
   "outputs": [],
   "source": [
    "import xfmkit.dtops as dtops\n",
    "\n",
    "dtops.predhist(pxs.dt, pxs.dtmod, '.', pxs.ndet)"
   ]
  },
  {
   "cell_type": "code",
   "execution_count": null,
   "metadata": {},
   "outputs": [],
   "source": [
    "pxs.dtmod.shape[1]"
   ]
  },
  {
   "cell_type": "code",
   "execution_count": null,
   "metadata": {},
   "outputs": [],
   "source": [
    "sample = kde.kde.sample(100000)\n",
    "\n",
    "sclassifier, scategories = clustering.classify(sample, eom=False)\n",
    "\n",
    "\n",
    "vis.seaborn_embedplot(sample, scategories, palette=palette)"
   ]
  },
  {
   "cell_type": "code",
   "execution_count": null,
   "metadata": {},
   "outputs": [],
   "source": [
    "import time\n",
    "import os\n",
    "import re\n",
    "import hdbscan\n",
    "import numpy as np\n",
    "import umap.umap_ as umap\n",
    "import pacmap\n",
    "import pickle\n",
    "\n",
    "from sklearn import decomposition\n",
    "from sklearn.cluster import KMeans\n",
    "from sklearn.neighbors import KernelDensity\n",
    "\n",
    "import xfmkit.utils as utils\n",
    "import xfmkit.config as config\n",
    "\n",
    "\n",
    "def localclassify(embedding, use_classifier):\n",
    "    \"\"\"\n",
    "    performs classification on embedding to produce final clusters\n",
    "\n",
    "    args:       set of 2D embedding matrices (shape [nreducers,x,y]), number of pixels in map\n",
    "    returns:    category-by-pixel matrix, shape [nreducers,chan]\n",
    "    \"\"\"\n",
    "    print(\"RUNNING CLASSIFIER\")\n",
    "    operator, args = use_classifier\n",
    "\n",
    "    print(f\"operator: {operator}\")\n",
    "    print(f\"args: {args}\")\n",
    "\n",
    "    classifier = operator(**args)\n",
    "    embedding = classifier.fit(embedding)\n",
    "\n",
    "    categories=classifier.labels_\n",
    "\n",
    "    categories = categories.astype(np.int32)\n",
    "\n",
    "    categories=categories+1  \n",
    "\n",
    "    return classifier, categories\n"
   ]
  },
  {
   "cell_type": "code",
   "execution_count": null,
   "metadata": {},
   "outputs": [],
   "source": [
    "use_classifier_eom = (hdbscan.HDBSCAN, {\"min_cluster_size\": 100,\n",
    "        \"min_samples\": 500,  #500\n",
    "        \"alpha\": 1.0,   #1.0\n",
    "        \"cluster_selection_epsilon\": 0.2,\n",
    "        \"cluster_selection_method\": \"eom\", #eom\n",
    "        \"gen_min_span_tree\": True })\n",
    "\n",
    "#leaf minor\n",
    "use_classifier_minor_leaves = (hdbscan.HDBSCAN, {\"min_cluster_size\": 10,\n",
    "        \"min_samples\": 100,  #500\n",
    "        \"alpha\": 1.0,   #1.0\n",
    "        \"cluster_selection_epsilon\": 0.2,\n",
    "        \"cluster_selection_method\": \"leaf\", #eom\n",
    "        \"gen_min_span_tree\": True })\n",
    "\n",
    "#leaf primary\n",
    "use_classifier_major_leaves = (hdbscan.HDBSCAN, {\"min_cluster_size\": 100,\n",
    "        \"min_samples\": 250,  #500\n",
    "        \"alpha\": 1.0,   #1.0\n",
    "        \"cluster_selection_epsilon\": 0.35,\n",
    "        \"cluster_selection_method\": \"leaf\", #eom\n",
    "        \"gen_min_span_tree\": True })\n",
    "\n",
    "sclassifier, scategories = localclassify(sample, use_classifier_major_leaves)\n",
    "\n",
    "print(np.max(scategories))\n",
    "\n"
   ]
  },
  {
   "cell_type": "code",
   "execution_count": null,
   "metadata": {},
   "outputs": [],
   "source": [
    "vis.seaborn_embedplot(sample, scategories)"
   ]
  },
  {
   "cell_type": "code",
   "execution_count": null,
   "metadata": {},
   "outputs": [],
   "source": [
    "row, col = 100, 200     #y, x\n",
    "print(kde.Z[row,col])\n",
    "print(kde.X[row,col])\n",
    "print(kde.Y[row,col])"
   ]
  },
  {
   "cell_type": "code",
   "execution_count": null,
   "metadata": {},
   "outputs": [],
   "source": [
    "kde.X.shape"
   ]
  },
  {
   "cell_type": "code",
   "execution_count": null,
   "metadata": {},
   "outputs": [],
   "source": [
    "from sklearn.neighbors import KernelDensity\n",
    "min_separation=config.get('reducer', 'min_separation')\n",
    "kde_separation_bandwidth_mult=config.get('reducer', 'kde_separation_bandwidth_mult')\n",
    "\n",
    "for i in range(np.max(scategories)+1):\n",
    "    indices = np.where(scategories==i)\n",
    "    selected = embedding[indices]\n",
    "\n",
    "_kde =  KernelDensity(kernel='gaussian',bandwidth=min_separation*kde_separation_bandwidth_mult)\n",
    "_kde.fit(selected)\n",
    "\n",
    "\n",
    "\n"
   ]
  },
  {
   "cell_type": "code",
   "execution_count": null,
   "metadata": {},
   "outputs": [],
   "source": [
    "kde.X[0].shape[0]"
   ]
  },
  {
   "cell_type": "code",
   "execution_count": null,
   "metadata": {},
   "outputs": [],
   "source": [
    "_xy, _X, _Y = clustering.get_linspace(embedding, kde.X[0].shape[0]) \n",
    "\n",
    "_Z = _kde.score_samples(_xy)"
   ]
  },
  {
   "cell_type": "code",
   "execution_count": null,
   "metadata": {},
   "outputs": [],
   "source": []
  }
 ],
 "metadata": {
  "kernelspec": {
   "display_name": "Python 3.10.6 64-bit ('venv_xfmkit')",
   "language": "python",
   "name": "python3"
  },
  "language_info": {
   "codemirror_mode": {
    "name": "ipython",
    "version": 3
   },
   "file_extension": ".py",
   "mimetype": "text/x-python",
   "name": "python",
   "nbconvert_exporter": "python",
   "pygments_lexer": "ipython3",
   "version": "3.10.6"
  },
  "vscode": {
   "interpreter": {
    "hash": "7060b9785fdca4a18a544ba639b7619bcdc2e472fedb88cd91711eee04a8769b"
   }
  }
 },
 "nbformat": 4,
 "nbformat_minor": 2
}
