{
 "cells": [
  {
   "cell_type": "code",
   "execution_count": 1,
   "metadata": {},
   "outputs": [],
   "source": [
    "import os\n",
    "import re\n",
    "import sys\n",
    "import numpy as np\n",
    "import periodictable as pt\n",
    "import matplotlib.pyplot as plt\n",
    "from PIL import Image\n",
    "from sklearn.cluster import DBSCAN\n",
    "from sklearn import decomposition\n",
    "import seaborn as sns\n",
    "import sklearn.datasets as data\n",
    "import pandas as pd\n",
    "\n",
    "import hdbscan\n",
    "import umap.umap_ as umap\n",
    "\n",
    "#add the parent folder to sys path so we can import from the notebook subfolder\n",
    "sys.path.insert(0,'..')\n",
    "\n",
    "\n",
    "\n",
    "BASEDIR = \"/home/lachlan/\"\n",
    "TIFDIR = \"DATA/datasets/XFMDATA/Zoe/slides_99um/s4\"\n",
    "EXT='.tiff'\n",
    "\n",
    "image_directory = os.path.join(BASEDIR, TIFDIR)"
   ]
  },
  {
   "cell_type": "code",
   "execution_count": 14,
   "metadata": {},
   "outputs": [
    {
     "name": "stdout",
     "output_type": "stream",
     "text": [
      "The autoreload extension is already loaded. To reload it, use:\n",
      "  %reload_ext autoreload\n",
      "/home/lachlan/DATA/datasets/XFMDATA/Zoe/slides_99um/s4\n",
      "['/home/lachlan/DATA/datasets/XFMDATA/Zoe/slides_99um/s4/full_99um_s4_cali-Al.tiff', '/home/lachlan/DATA/datasets/XFMDATA/Zoe/slides_99um/s4/full_99um_s4_cali-As.tiff', '/home/lachlan/DATA/datasets/XFMDATA/Zoe/slides_99um/s4/full_99um_s4_cali-Ca.tiff', '/home/lachlan/DATA/datasets/XFMDATA/Zoe/slides_99um/s4/full_99um_s4_cali-Cl.tiff', '/home/lachlan/DATA/datasets/XFMDATA/Zoe/slides_99um/s4/full_99um_s4_cali-Cr.tiff', '/home/lachlan/DATA/datasets/XFMDATA/Zoe/slides_99um/s4/full_99um_s4_cali-Cu.tiff', '/home/lachlan/DATA/datasets/XFMDATA/Zoe/slides_99um/s4/full_99um_s4_cali-Fe.tiff', '/home/lachlan/DATA/datasets/XFMDATA/Zoe/slides_99um/s4/full_99um_s4_cali-K.tiff', '/home/lachlan/DATA/datasets/XFMDATA/Zoe/slides_99um/s4/full_99um_s4_cali-Mg.tiff', '/home/lachlan/DATA/datasets/XFMDATA/Zoe/slides_99um/s4/full_99um_s4_cali-Mn.tiff', '/home/lachlan/DATA/datasets/XFMDATA/Zoe/slides_99um/s4/full_99um_s4_cali-Na.tiff', '/home/lachlan/DATA/datasets/XFMDATA/Zoe/slides_99um/s4/full_99um_s4_cali-Ni.tiff', '/home/lachlan/DATA/datasets/XFMDATA/Zoe/slides_99um/s4/full_99um_s4_cali-S.tiff', '/home/lachlan/DATA/datasets/XFMDATA/Zoe/slides_99um/s4/full_99um_s4_cali-Si.tiff', '/home/lachlan/DATA/datasets/XFMDATA/Zoe/slides_99um/s4/full_99um_s4_cali-Ti.tiff', '/home/lachlan/DATA/datasets/XFMDATA/Zoe/slides_99um/s4/full_99um_s4_cali-V.tiff', '/home/lachlan/DATA/datasets/XFMDATA/Zoe/slides_99um/s4/full_99um_s4_cali-Zn.tiff', '/home/lachlan/DATA/datasets/XFMDATA/Zoe/slides_99um/s4/full_99um_s4_cali-Zr.tiff']\n",
      "MAPSHAPE: (145, 423, 18)\n",
      "DATASHAPE: (61335, 18)\n",
      "['Al', 'As', 'Ca', 'Cl', 'Cr', 'Cu', 'Fe', 'K', 'Mg', 'Mn', 'Na', 'Ni', 'S', 'Si', 'Ti', 'V', 'Zn', 'Zr']\n",
      "data shape: (18, 61335)\n",
      "----Mg tracker: 268142.53125\n",
      "(18, 61335)\n",
      "18\n",
      "61335\n",
      "Al, pre, max: 2444674.75\n",
      "0 Al 2 Al 2.0452618492500896e-06\n",
      "Al, post, max: 5.0, factor: 2.0452618492500896e-06\n",
      "As, pre, max: 273973.375\n",
      "As, post, max: 27397337088.0, factor: 100000\n",
      "Ca, pre, max: 207812.859375\n",
      "Ca, post, max: 20781285376.0, factor: 100000\n",
      "Cl, pre, max: 251546.390625\n",
      "Cl, post, max: 25154639872.0, factor: 100000\n",
      "Cr, pre, max: 238948.921875\n",
      "Cr, post, max: 23894892544.0, factor: 100000\n",
      "Cu, pre, max: 4081676.5\n",
      "Cu, post, max: 408167645184.0, factor: 100000\n",
      "Fe, pre, max: 204312.03125\n",
      "Fe, post, max: 20431202304.0, factor: 100000\n",
      "K, pre, max: 254704.921875\n",
      "K, post, max: 25470492672.0, factor: 100000\n",
      "Mg, pre, max: 268142.53125\n",
      "8 Mg 1 Mg 3.7293598868418976e-06\n",
      "Mg, post, max: 1.0, factor: 3.7293598868418976e-06\n",
      "Mn, pre, max: 205423.859375\n",
      "Mn, post, max: 20542386176.0, factor: 100000\n",
      "Na, pre, max: 4027033.75\n",
      "10 Na 0 Na 2.4832173308703955e-07\n",
      "Na, post, max: 1.0, factor: 2.4832173308703955e-07\n",
      "Ni, pre, max: 217911.203125\n",
      "Ni, post, max: 21791119360.0, factor: 100000\n",
      "S, pre, max: 1613339.625\n",
      "12 S 3 Si 6.198322935259214e-06\n",
      "S, post, max: 10.0, factor: 6.198322935259214e-06\n",
      "Si, pre, max: 3787460.75\n",
      "13 Si 3 Si 2.6402913878381448e-06\n",
      "Si, post, max: 10.0, factor: 2.6402913878381448e-06\n",
      "Ti, pre, max: 229917.015625\n",
      "Ti, post, max: 22991702016.0, factor: 100000\n",
      "V, pre, max: 221764.15625\n",
      "V, post, max: 22176415744.0, factor: 100000\n",
      "Zn, pre, max: 221148.9375\n",
      "Zn, post, max: 22114893824.0, factor: 100000\n",
      "Zr, pre, max: 289077.5\n",
      "Zr, post, max: 28907749376.0, factor: 100000\n"
     ]
    },
    {
     "ename": "IndexError",
     "evalue": "list index out of range",
     "output_type": "error",
     "traceback": [
      "\u001b[0;31m---------------------------------------------------------------------------\u001b[0m",
      "\u001b[0;31mIndexError\u001b[0m                                Traceback (most recent call last)",
      "Cell \u001b[0;32mIn[14], line 10\u001b[0m\n\u001b[1;32m      6\u001b[0m \u001b[39mimport\u001b[39;00m \u001b[39mxfmreadout\u001b[39;00m\u001b[39m.\u001b[39;00m\u001b[39mprocessed_plots\u001b[39;00m \u001b[39mas\u001b[39;00m \u001b[39mprocessed_plots\u001b[39;00m\n\u001b[1;32m      8\u001b[0m FORCE\u001b[39m=\u001b[39m\u001b[39mTrue\u001b[39;00m\n\u001b[0;32m---> 10\u001b[0m data, elements, dims \u001b[39m=\u001b[39m processed_ops\u001b[39m.\u001b[39;49mget_data(image_directory)\n\u001b[1;32m     13\u001b[0m \u001b[39m\"\"\"\u001b[39;00m\n\u001b[1;32m     14\u001b[0m \u001b[39mprint(f\"-----{elements[10]} tracker: {np.max(data[:,10])}\")\u001b[39;00m\n\u001b[1;32m     15\u001b[0m \u001b[39mcategories, classavg, embedding, clusttimes, data, dims = processed_ops.process(data, dims, image_directory, force=True)\u001b[39;00m\n\u001b[0;32m   (...)\u001b[0m\n\u001b[1;32m     21\u001b[0m \u001b[39m    print(f\"{elements[i]}, {np.max(data[:,i])}\")\u001b[39;00m\n\u001b[1;32m     22\u001b[0m \u001b[39m\"\"\"\u001b[39;00m\n",
      "File \u001b[0;32m~/CODEBASE/ReadoutXFM/notebooks/../xfmreadout/processed_ops.py:157\u001b[0m, in \u001b[0;36mget_data\u001b[0;34m(image_directory)\u001b[0m\n\u001b[1;32m    154\u001b[0m \u001b[39mprint\u001b[39m(\u001b[39mf\u001b[39m\u001b[39m\"\u001b[39m\u001b[39mdata shape: \u001b[39m\u001b[39m{\u001b[39;00mdata\u001b[39m.\u001b[39mshape\u001b[39m}\u001b[39;00m\u001b[39m\"\u001b[39m)\n\u001b[1;32m    155\u001b[0m \u001b[39mprint\u001b[39m(\u001b[39mf\u001b[39m\u001b[39m\"\u001b[39m\u001b[39m----\u001b[39m\u001b[39m{\u001b[39;00melements[\u001b[39m8\u001b[39m]\u001b[39m}\u001b[39;00m\u001b[39m tracker: \u001b[39m\u001b[39m{\u001b[39;00mnp\u001b[39m.\u001b[39mmax(data[:,\u001b[39m8\u001b[39m])\u001b[39m}\u001b[39;00m\u001b[39m\"\u001b[39m)    \u001b[39m#DEBUG\u001b[39;00m\n\u001b[0;32m--> 157\u001b[0m data \u001b[39m=\u001b[39m modify_maps(data, elements)\n\u001b[1;32m    159\u001b[0m \u001b[39mprint\u001b[39m(\u001b[39mf\u001b[39m\u001b[39m\"\u001b[39m\u001b[39m-----\u001b[39m\u001b[39m{\u001b[39;00melements[\u001b[39m8\u001b[39m]\u001b[39m}\u001b[39;00m\u001b[39m tracker: \u001b[39m\u001b[39m{\u001b[39;00mnp\u001b[39m.\u001b[39mmax(data[:,\u001b[39m8\u001b[39m])\u001b[39m}\u001b[39;00m\u001b[39m\"\u001b[39m)   \u001b[39m#DEBUG\u001b[39;00m\n\u001b[1;32m    161\u001b[0m \u001b[39m#print(maps.shape, data.shape)\u001b[39;00m\n",
      "File \u001b[0;32m~/CODEBASE/ReadoutXFM/notebooks/../xfmreadout/processed_ops.py:126\u001b[0m, in \u001b[0;36mmodify_maps\u001b[0;34m(data, elements)\u001b[0m\n\u001b[1;32m    123\u001b[0m \u001b[39mfor\u001b[39;00m i \u001b[39min\u001b[39;00m \u001b[39mrange\u001b[39m(data\u001b[39m.\u001b[39mshape[\u001b[39m1\u001b[39m]):\n\u001b[1;32m    124\u001b[0m     factor\u001b[39m=\u001b[39mBASEFACTOR\n\u001b[0;32m--> 126\u001b[0m     \u001b[39mprint\u001b[39m(\u001b[39mf\u001b[39m\u001b[39m\"\u001b[39m\u001b[39m{\u001b[39;00melements[i]\u001b[39m}\u001b[39;00m\u001b[39m, pre, max: \u001b[39m\u001b[39m{\u001b[39;00mnp\u001b[39m.\u001b[39mmax(data[:,i])\u001b[39m}\u001b[39;00m\u001b[39m\"\u001b[39m)\n\u001b[1;32m    128\u001b[0m     \u001b[39mfor\u001b[39;00m idx, snames \u001b[39min\u001b[39;00m \u001b[39menumerate\u001b[39m(MODIFY_LIST):\n\u001b[1;32m    129\u001b[0m         \u001b[39mif\u001b[39;00m elements[i] \u001b[39min\u001b[39;00m snames:\n\u001b[1;32m    130\u001b[0m             \u001b[39m#factor=BASEFACTOR*MODIFY_FACTORS[idx]\u001b[39;00m\n",
      "\u001b[0;31mIndexError\u001b[0m: list index out of range"
     ]
    }
   ],
   "source": [
    "%load_ext autoreload\n",
    "%autoreload 2\n",
    "\n",
    "import xfmreadout.clustering as clustering\n",
    "import xfmreadout.processed_ops as processed_ops\n",
    "import xfmreadout.processed_plots as processed_plots\n",
    "\n",
    "FORCE=True\n",
    "\n",
    "data, elements, dims = processed_ops.get_data(image_directory)\n",
    "\n",
    "\n",
    "\"\"\"\n",
    "print(f\"-----{elements[10]} tracker: {np.max(data[:,10])}\")\n",
    "categories, classavg, embedding, clusttimes, data, dims = processed_ops.process(data, dims, image_directory, force=True)\n",
    "print(f\"-----{elements[10]} tracker: {np.max(data[:,10])}\")\n",
    "\n",
    "processed_ops.plot_all(categories, classavg, embedding, data, elements, dims)\n",
    "\n",
    "for i in range(len(elements)):\n",
    "    print(f\"{elements[i]}, {np.max(data[:,i])}\")\n",
    "\"\"\"\n"
   ]
  },
  {
   "cell_type": "code",
   "execution_count": 27,
   "metadata": {},
   "outputs": [
    {
     "name": "stdout",
     "output_type": "stream",
     "text": [
      "0.93018293\n",
      "Na\n"
     ]
    }
   ],
   "source": [
    "print(max(data[10]))\n",
    "print(elements[10])"
   ]
  },
  {
   "cell_type": "code",
   "execution_count": 142,
   "metadata": {},
   "outputs": [
    {
     "name": "stdout",
     "output_type": "stream",
     "text": [
      "15 -1\n"
     ]
    },
    {
     "data": {
      "text/plain": [
       "(16, 19)"
      ]
     },
     "execution_count": 142,
     "metadata": {},
     "output_type": "execute_result"
    }
   ],
   "source": [
    "print(np.max(categories), np.min(categories))\n",
    "classavg.shape"
   ]
  }
 ],
 "metadata": {
  "kernelspec": {
   "display_name": "Python 3.10.6 64-bit ('venv_xfmreadout_p3106')",
   "language": "python",
   "name": "python3"
  },
  "language_info": {
   "codemirror_mode": {
    "name": "ipython",
    "version": 3
   },
   "file_extension": ".py",
   "mimetype": "text/x-python",
   "name": "python",
   "nbconvert_exporter": "python",
   "pygments_lexer": "ipython3",
   "version": "3.10.6"
  },
  "orig_nbformat": 4,
  "vscode": {
   "interpreter": {
    "hash": "802f3d51c3eabaa988c2081427a6e58d22a1973b701d3c507276bc598e749c87"
   }
  }
 },
 "nbformat": 4,
 "nbformat_minor": 2
}
