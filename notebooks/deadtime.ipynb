{
 "cells": [
  {
   "cell_type": "code",
   "execution_count": null,
   "metadata": {},
   "outputs": [],
   "source": [
    "import main\n",
    "import os\n",
    "\n",
    "indir=\"/mnt/d/DATA/XFMDATA/2023/Lachlan/REFERENCE/uMatter/Mo_vac_230315\"\n",
    "\n",
    "args_in = [\"-f\", os.path.join(indir,\"50-500_rt_TC050_64px/p500.GeoPIXE\"), \"-a\"] \n",
    "\n",
    "pixelseries, xfmap = main.main(args_in)"
   ]
  },
  {
   "cell_type": "code",
   "execution_count": null,
   "metadata": {},
   "outputs": [],
   "source": [
    "##SPLITTER\n",
    "\n",
    "import xfmkit.dtops as dtops\n",
    "import xfmkit.diagops as diagops\n",
    "\n",
    "args_in = [\"-f\", os.path.join(indir,\"diagnostics.log\"), \"-s\"] \n",
    "\n",
    "realtime, livetime, triggers, events, icr, ocr, dt_evt, dt_rt = diagops.main(args_in)"
   ]
  },
  {
   "cell_type": "code",
   "execution_count": null,
   "metadata": {},
   "outputs": [],
   "source": [
    "import xfmkit.dtops as dtops\n",
    "import xfmkit.diagops as diagops\n",
    "\n",
    "args_in = [\"-f\", os.path.join(indir,\"diagnostics_p500.log\")] \n",
    "\n",
    "realtime, livetime, triggers, events, icr, ocr, dt_evt, dt_rt = diagops.main(args_in)\n",
    "\n",
    "print(\"EVT\")\n",
    "dtops.dthist(dt_evt, \"./out/\", 2)\n",
    "print(\"RT\")\n",
    "dtops.dthist(dt_rt, \"./out/\", 2)\n",
    "\n",
    "dtops.dtscatter(dt_evt, dt_rt, \"./out/\", 2)"
   ]
  },
  {
   "cell_type": "code",
   "execution_count": null,
   "metadata": {},
   "outputs": [],
   "source": [
    "print(dt_rt.shape)\n",
    "\n",
    "print(pixelseries.sum.shape)\n",
    "\n",
    "print(512*63)"
   ]
  },
  {
   "cell_type": "code",
   "execution_count": null,
   "metadata": {},
   "outputs": [],
   "source": [
    "import numpy as np\n",
    "\n",
    "NDECIMALS=1\n",
    "\n",
    "round_cdt=np.ndarray.round(dt_rt, NDECIMALS)\n",
    "round_dt=np.ndarray.round(pixelseries.dt, NDECIMALS)\n",
    "\n",
    "round_cdt=round_cdt.astype('float32')\n",
    "\n",
    "print(round_cdt[0,0:100])\n",
    "print(round_dt[0,0:100])\n",
    "\n",
    "print(np.equal(round_cdt[0,0:100],round_dt[0,0:100]))\n",
    "\n"
   ]
  },
  {
   "cell_type": "code",
   "execution_count": null,
   "metadata": {},
   "outputs": [],
   "source": [
    "XPX=128\n",
    "YPX=50\n",
    "\n",
    "for i in range(0,YPX):\n",
    "\n",
    "    start=i*XPX\n",
    "    end=(i+1)*XPX\n",
    "\n",
    "\n",
    "    ident=np.equal(round_cdt[0,(i+0)*XPX:(i+1)*XPX], round_dt[0,(i)*XPX:(i+1)*XPX])\n",
    "    \n",
    "    print(f\"LINE: {i}, TRUE: {ident.sum()}\")"
   ]
  },
  {
   "cell_type": "code",
   "execution_count": null,
   "metadata": {},
   "outputs": [],
   "source": [
    "i=39\n",
    "print(round_cdt[0,(i+0)*512:(i+1)*512])\n",
    "print(round_dt[0,(i)*512:(i+1)*512])"
   ]
  }
 ],
 "metadata": {
  "kernelspec": {
   "display_name": "Python 3.7.13 64-bit ('venv_readoutxfm')",
   "language": "python",
   "name": "python3"
  },
  "language_info": {
   "codemirror_mode": {
    "name": "ipython",
    "version": 3
   },
   "file_extension": ".py",
   "mimetype": "text/x-python",
   "name": "python",
   "nbconvert_exporter": "python",
   "pygments_lexer": "ipython3",
   "version": "3.7.13"
  },
  "vscode": {
   "interpreter": {
    "hash": "0b9d363b706fd0bc0a41859caad5644002e30fe4842120278502f40318864618"
   }
  }
 },
 "nbformat": 4,
 "nbformat_minor": 2
}
