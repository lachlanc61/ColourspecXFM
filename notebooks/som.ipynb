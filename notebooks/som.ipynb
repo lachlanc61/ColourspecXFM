{
 "cells": [
  {
   "cell_type": "code",
   "execution_count": null,
   "metadata": {},
   "outputs": [],
   "source": [
    "import sys\n",
    "%load_ext autoreload\n",
    "%autoreload 2\n",
    "\n",
    "import xfmkit.entry_processed as entry_processed\n",
    "import xfmkit.clustering as clustering\n",
    "\n",
    "#add the parent folder to sys path so we can import from within the notebook subfolder\n",
    "#sys.path.insert(0,'..')\n",
    "\n",
    "print(sys.path)\n",
    "\n",
    "#args = ' -d /home/lachlan/CODEBASE/xfmkit/data/processed_maps/carlos_full -n 2 -fc'\n",
    "#args_in = [\"-d\", \"/home/lachlan/CODEBASE/xfmkit/data/processed_maps/carlos_full\"]\n",
    "args_in = [\"-d\", \"/home/lachlan/CODEBASE/xfmkit/data/processed_maps/nf_demo_short\"]\n",
    "\n",
    "PACKAGE_CONFIG='xfmkit/config.yaml'"
   ]
  },
  {
   "cell_type": "code",
   "execution_count": null,
   "metadata": {},
   "outputs": [],
   "source": [
    "pxs, embedding, categories, classavg, palette, kde = entry_processed.read_processed(args_in)"
   ]
  },
  {
   "cell_type": "code",
   "execution_count": null,
   "metadata": {},
   "outputs": [],
   "source": [
    "pixels = pxs.data.d\n",
    "\n",
    "pixels.shape\n"
   ]
  },
  {
   "cell_type": "code",
   "execution_count": null,
   "metadata": {},
   "outputs": [],
   "source": [
    "from minisom import MiniSom\n",
    "\n",
    "import numpy as np"
   ]
  },
  {
   "cell_type": "code",
   "execution_count": null,
   "metadata": {},
   "outputs": [],
   "source": [
    "#neuron map size\n",
    "m, n = 5, 5\n",
    "\n",
    "# SOM initialization and training\n",
    "print('training...')\n",
    "som = MiniSom(m, n, pixels.shape[1], sigma=1.,\n",
    "              learning_rate=0.1, neighborhood_function='bubble')  # 3x3 = 9 final colors\n",
    "som.random_weights_init(pixels)\n",
    "starting_weights = som.get_weights().copy()  # saving the starting weights\n",
    "som.train(pixels, 20000, random_order=True, verbose=True)"
   ]
  },
  {
   "cell_type": "code",
   "execution_count": null,
   "metadata": {},
   "outputs": [],
   "source": [
    "print('quantization...')\n",
    "qnt = som.quantization(pixels)  # quantize each pixels of the image\n",
    "\n",
    "final_weights = som.get_weights()\n"
   ]
  },
  {
   "cell_type": "code",
   "execution_count": null,
   "metadata": {},
   "outputs": [],
   "source": [
    "winners = som.win_map(pixels, return_indices=True)"
   ]
  },
  {
   "cell_type": "code",
   "execution_count": null,
   "metadata": {},
   "outputs": [],
   "source": [
    "for i in range(m):\n",
    "    for j in range(n):\n",
    "        print(f\"({i},{j})\")\n",
    "        print(len(winners[(i,j)]))"
   ]
  },
  {
   "cell_type": "code",
   "execution_count": null,
   "metadata": {},
   "outputs": [],
   "source": [
    "\"\"\"\n",
    "COLOURS\n",
    "\"\"\""
   ]
  },
  {
   "cell_type": "code",
   "execution_count": null,
   "metadata": {},
   "outputs": [],
   "source": [
    "import seaborn as sns\n",
    "import colorcet as cc\n",
    "import numpy as np\n",
    "import matplotlib.pyplot as plt\n",
    "\n",
    "cc_palette=sns.color_palette(cc.glasbey_light,100)\n",
    "\n",
    "\n",
    "cc_palette"
   ]
  },
  {
   "cell_type": "code",
   "execution_count": null,
   "metadata": {},
   "outputs": [],
   "source": [
    "coloursom = MiniSom(m, n, len(cc_palette[0]), sigma=1.,\n",
    "              learning_rate=0.2, neighborhood_function='gaussian')\n",
    "\n",
    "coloursom.train(cc_palette, 10000, random_order=True, verbose=True)\n",
    "\n",
    "winners = coloursom.win_map(cc_palette, return_indices=False)\n"
   ]
  },
  {
   "cell_type": "code",
   "execution_count": null,
   "metadata": {},
   "outputs": [],
   "source": [
    "neuron_colours=np.zeros((m,n,3), dtype=np.float32)\n",
    "\n",
    "for i in range(m):\n",
    "    for j in range(n):\n",
    "        print(f\"({i},{j})\")\n",
    "        print(len(winners[(i,j)]))\n",
    "        neuron_colours[i,j,:]=winners[(i,j)][0]\n",
    "\n",
    "plt.imshow(abs(neuron_colours), interpolation='none')\n",
    "\n",
    "#colours from weights - should be similar\n",
    "#plt.imshow(abs(coloursom.get_weights()), interpolation='none')"
   ]
  },
  {
   "cell_type": "code",
   "execution_count": null,
   "metadata": {},
   "outputs": [],
   "source": [
    "\"\"\"\n",
    "use winner to get winning neuron for every pixel\n",
    "\n",
    "assign colour based on colour quantization\n",
    "\n",
    "\"\"\""
   ]
  },
  {
   "cell_type": "code",
   "execution_count": null,
   "metadata": {},
   "outputs": [],
   "source": [
    "#flatten neuron indices\n",
    "som_categories=np.zeros(pixels.shape[0], dtype=np.int32)\n",
    "\n",
    "for i in range(pixels.shape[0]):\n",
    "    _h, _k = som.winner(pixels[i])\n",
    "    som_categories[i]=_h*m+_k\n",
    "\n",
    "som_categories"
   ]
  },
  {
   "cell_type": "code",
   "execution_count": null,
   "metadata": {},
   "outputs": [],
   "source": [
    "#create a new palette from som colours\n",
    "import copy\n",
    "\n",
    "nc = np.reshape(neuron_colours, (m*n,-1))\n",
    "\n",
    "som_palette = copy.deepcopy(cc_palette)\n",
    "\n",
    "del som_palette[0:]\n",
    "\n",
    "for i in range(nc.shape[0]):\n",
    "    som_palette.append(nc[i])\n",
    "\n",
    "som_palette"
   ]
  },
  {
   "cell_type": "code",
   "execution_count": null,
   "metadata": {},
   "outputs": [],
   "source": [
    "import xfmkit.visualisations as vis\n",
    "\n",
    "vis.category_map(som_categories, pxs.dimensions, palette=som_palette)"
   ]
  },
  {
   "cell_type": "code",
   "execution_count": null,
   "metadata": {},
   "outputs": [],
   "source": [
    "vis.category_map(categories, pxs.dimensions, palette=palette)"
   ]
  }
 ],
 "metadata": {
  "kernelspec": {
   "display_name": "venv_xfmkit",
   "language": "python",
   "name": "python3"
  },
  "language_info": {
   "codemirror_mode": {
    "name": "ipython",
    "version": 3
   },
   "file_extension": ".py",
   "mimetype": "text/x-python",
   "name": "python",
   "nbconvert_exporter": "python",
   "pygments_lexer": "ipython3",
   "version": "3.10.6"
  }
 },
 "nbformat": 4,
 "nbformat_minor": 2
}
