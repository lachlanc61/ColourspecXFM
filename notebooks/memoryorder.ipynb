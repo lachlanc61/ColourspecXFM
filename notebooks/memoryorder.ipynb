{
 "cells": [
  {
   "cell_type": "code",
   "execution_count": 2,
   "metadata": {},
   "outputs": [],
   "source": [
    "import numpy as np\n",
    "\n"
   ]
  },
  {
   "cell_type": "code",
   "execution_count": 5,
   "metadata": {},
   "outputs": [
    {
     "name": "stdout",
     "output_type": "stream",
     "text": [
      "[[1. 2. 3.]\n",
      " [4. 5. 6.]]\n",
      "[1. 2. 3. 4. 5. 6.]\n",
      "6.0\n"
     ]
    }
   ],
   "source": [
    "a = np.ndarray(shape=(2,3), order='C')\n",
    "for i in range(6): a.itemset(i, i+1)\n",
    "\n",
    "print(a)\n",
    "\n",
    "print(a.ravel(order='K'))\n",
    "\n",
    "print(a[1,2])\n",
    "\n",
    "#need to explore this more before i rebuild entire program...\n",
    "#https://stackoverflow.com/questions/20341614/numpy-array-row-major-and-column-major"
   ]
  }
 ],
 "metadata": {
  "kernelspec": {
   "display_name": "venv_xfmreadout_3106",
   "language": "python",
   "name": "python3"
  },
  "language_info": {
   "codemirror_mode": {
    "name": "ipython",
    "version": 3
   },
   "file_extension": ".py",
   "mimetype": "text/x-python",
   "name": "python",
   "nbconvert_exporter": "python",
   "pygments_lexer": "ipython3",
   "version": "3.10.6"
  },
  "orig_nbformat": 4
 },
 "nbformat": 4,
 "nbformat_minor": 2
}
